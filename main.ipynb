{
 "cells": [
  {
   "cell_type": "code",
   "execution_count": 2,
   "metadata": {},
   "outputs": [],
   "source": [
    "import numpy as np\n",
    "import pandas as pd\n",
    "import matplotlib.pyplot as plt\n",
    "from matplotlib import dates\n",
    "\n",
    "%matplotlib inline\n",
    "import statsmodels.api as sm\n",
    "import seaborn as sns\n",
    "\n",
    "import requests # Get URL data\n",
    "from bs4 import BeautifulSoup # Manipulate URL data\n",
    "import json\n",
    "from pandas import DataFrame as df"
   ]
  },
  {
   "cell_type": "code",
   "execution_count": 5,
   "metadata": {},
   "outputs": [],
   "source": [
    "# Grab all data from URL\n",
    "web_page = requests.get(\"https://www.worldometers.info/coronavirus\")\n",
    "soup = BeautifulSoup(web_page.text, 'html.parser')\n",
    "#print(soup.prettify())"
   ]
  },
  {
   "cell_type": "code",
   "execution_count": 6,
   "metadata": {},
   "outputs": [
    {
     "name": "stdout",
     "output_type": "stream",
     "text": [
      "Coronavirus Cases:  46,052,730\n",
      "Deaths:  1,195,929\n",
      "Recovered:  33,322,384\n"
     ]
    }
   ],
   "source": [
    "# Find basic data in div with class name maincounter-number\n",
    "covid_data = soup.find_all(\"div\",class_ = \"maincounter-number\")\n",
    "# \n",
    "print(\"Coronavirus Cases: \", covid_data[0].text.strip())\n",
    "print(\"Deaths: \", covid_data[1].text.strip())\n",
    "print(\"Recovered: \", covid_data[2].text.strip())\n",
    "\n",
    "# If I wanted world data I could search for script tags with type\n",
    "# set as text/javascript\n",
    "data = soup.find_all(\"script\", {\"type\":\"text/javascript\"})\n",
    "# for content in data:\n",
    "#     print(content)"
   ]
  },
  {
   "cell_type": "code",
   "execution_count": null,
   "metadata": {},
   "outputs": [],
   "source": []
  }
 ],
 "metadata": {
  "kernelspec": {
   "display_name": "Python 3",
   "language": "python",
   "name": "python3"
  },
  "language_info": {
   "codemirror_mode": {
    "name": "ipython",
    "version": 3
   },
   "file_extension": ".py",
   "mimetype": "text/x-python",
   "name": "python",
   "nbconvert_exporter": "python",
   "pygments_lexer": "ipython3",
   "version": "3.7.6"
  }
 },
 "nbformat": 4,
 "nbformat_minor": 4
}
